{
 "cells": [
  {
   "cell_type": "code",
   "execution_count": 1,
   "id": "38308770",
   "metadata": {},
   "outputs": [],
   "source": [
    "from transformers import PegasusTokenizer, PegasusForConditionalGeneration\n",
    "from bs4 import BeautifulSoup\n",
    "import requests"
   ]
  },
  {
   "cell_type": "code",
   "execution_count": 2,
   "id": "a4f5b40b",
   "metadata": {},
   "outputs": [],
   "source": [
    "model_name = \"human-centered-summarization/financial-summarization-pegasus\"\n",
    "tokenizer = PegasusTokenizer.from_pretrained(model_name)\n",
    "model = PegasusForConditionalGeneration.from_pretrained(model_name)"
   ]
  },
  {
   "cell_type": "code",
   "execution_count": 5,
   "id": "1fe68598",
   "metadata": {},
   "outputs": [],
   "source": [
    "url = \"https://au.finance.yahoo.com/news/china-restricting-tesla-use-uncovers-a-significant-challenge-for-elon-musk-expert-161921664.html\"\n",
    "r = requests.get(url)\n",
    "soup = BeautifulSoup(r.text, 'html.parser')\n",
    "paragraphs = soup.find_all('p')"
   ]
  },
  {
   "cell_type": "code",
   "execution_count": 7,
   "id": "5669d0b0",
   "metadata": {},
   "outputs": [],
   "source": [
    "text = [paragraph.text for paragraph in paragraphs]\n",
    "words = ' '.join(text).split(' ')[:400]\n",
    "ARTICLE = ' '.join(words)"
   ]
  },
  {
   "cell_type": "code",
   "execution_count": 8,
   "id": "7fce2a9e",
   "metadata": {},
   "outputs": [
    {
     "name": "stderr",
     "output_type": "stream",
     "text": [
      "C:\\ProgramData\\Anaconda3\\lib\\site-packages\\torch\\_tensor.py:575: UserWarning: floor_divide is deprecated, and will be removed in a future version of pytorch. It currently rounds toward 0 (like the 'trunc' function NOT 'floor'). This results in incorrect rounding for negative values.\n",
      "To keep the current behavior, use torch.div(a, b, rounding_mode='trunc'), or for actual floor division, use torch.div(a, b, rounding_mode='floor'). (Triggered internally at  ..\\aten\\src\\ATen\\native\\BinaryOps.cpp:467.)\n",
      "  return torch.floor_divide(self, other)\n"
     ]
    }
   ],
   "source": [
    "input_ids = tokenizer.encode(ARTICLE, return_tensors='pt')\n",
    "output = model.generate(input_ids, max_length=55, num_beams=5, early_stopping=True)\n",
    "summary = tokenizer.decode(output[0], skip_special_tokens=True)"
   ]
  },
  {
   "cell_type": "markdown",
   "id": "092841a7",
   "metadata": {},
   "source": [
    "### 4. Building a News and Sentiment Pipeline"
   ]
  },
  {
   "cell_type": "code",
   "execution_count": 9,
   "id": "1965b429",
   "metadata": {},
   "outputs": [],
   "source": [
    "monitored_tickers = ['GME','TSLA','BTC']"
   ]
  },
  {
   "cell_type": "markdown",
   "id": "de86b81c",
   "metadata": {},
   "source": [
    "#### 4.1. Search for Stock News using Google and Yahoo Finance"
   ]
  },
  {
   "cell_type": "code",
   "execution_count": 13,
   "id": "bb239ac0",
   "metadata": {},
   "outputs": [],
   "source": [
    "def search_for_stock_news_urls(ticker):\n",
    "    search_url = \"https://www.google.com/search?q=yahoo+finance+{}&tbm=nws\".format(ticker)\n",
    "    r = requests.get(search_url)\n",
    "    soup = BeautifulSoup(r.text, 'html.parser')\n",
    "    atags = soup.find_all('a')\n",
    "    hrefs = [link['href'] for link in atags]\n",
    "    return hrefs"
   ]
  },
  {
   "cell_type": "code",
   "execution_count": 21,
   "id": "dda3d296",
   "metadata": {},
   "outputs": [],
   "source": [
    "# testing exempel\n",
    "#search_url = \"https://www.google.com/search?q=yahoo+finance+{}&tbm=nws\".format('GME')"
   ]
  },
  {
   "cell_type": "code",
   "execution_count": 22,
   "id": "a3252728",
   "metadata": {},
   "outputs": [],
   "source": [
    "#search_url"
   ]
  },
  {
   "cell_type": "code",
   "execution_count": 18,
   "id": "2cb9783b",
   "metadata": {},
   "outputs": [],
   "source": [
    "raw_urls = {ticker:search_for_stock_news_urls(ticker) for ticker in monitored_tickers}"
   ]
  },
  {
   "cell_type": "code",
   "execution_count": 23,
   "id": "88d9a824",
   "metadata": {},
   "outputs": [
    {
     "data": {
      "text/plain": [
       "{'GME': ['/?sa=X&ved=0ahUKEwjqvOuKhMLzAhXIc98KHZr_AEsQOwgC',\n",
       "  '/?output=search&ie=UTF-8&tbm=nws&sa=X&ved=0ahUKEwjqvOuKhMLzAhXIc98KHZr_AEsQPAgE',\n",
       "  '/search?q=yahoo+finance+GME&tbm=nws&ie=UTF-8&gbv=1&sei=HgJkYeq1Msjn_Qaa_4PYBA',\n",
       "  '/search?q=yahoo+finance+GME&ie=UTF-8&source=lnms&sa=X&ved=0ahUKEwjqvOuKhMLzAhXIc98KHZr_AEsQ_AUIBygA',\n",
       "  '/search?q=yahoo+finance+GME&ie=UTF-8&tbm=vid&source=lnms&sa=X&ved=0ahUKEwjqvOuKhMLzAhXIc98KHZr_AEsQ_AUICSgC',\n",
       "  '/search?q=yahoo+finance+GME&ie=UTF-8&tbm=bks&source=lnms&sa=X&ved=0ahUKEwjqvOuKhMLzAhXIc98KHZr_AEsQ_AUICigD',\n",
       "  '/search?q=yahoo+finance+GME&ie=UTF-8&tbm=isch&source=lnms&sa=X&ved=0ahUKEwjqvOuKhMLzAhXIc98KHZr_AEsQ_AUICygE',\n",
       "  '/advanced_search',\n",
       "  '/search?q=yahoo+finance+GME&ie=UTF-8&tbm=nws&source=lnt&tbs=lr:lang_1ar&lr=lang_ar&sa=X&ved=0ahUKEwjqvOuKhMLzAhXIc98KHZr_AEsQpwUIDQ',\n",
       "  '/search?q=yahoo+finance+GME&ie=UTF-8&tbm=nws&source=lnt&tbs=qdr:h&sa=X&ved=0ahUKEwjqvOuKhMLzAhXIc98KHZr_AEsQpwUIDw',\n",
       "  '/search?q=yahoo+finance+GME&ie=UTF-8&tbm=nws&source=lnt&tbs=qdr:d&sa=X&ved=0ahUKEwjqvOuKhMLzAhXIc98KHZr_AEsQpwUIEA',\n",
       "  '/search?q=yahoo+finance+GME&ie=UTF-8&tbm=nws&source=lnt&tbs=qdr:w&sa=X&ved=0ahUKEwjqvOuKhMLzAhXIc98KHZr_AEsQpwUIEQ',\n",
       "  '/search?q=yahoo+finance+GME&ie=UTF-8&tbm=nws&source=lnt&tbs=qdr:m&sa=X&ved=0ahUKEwjqvOuKhMLzAhXIc98KHZr_AEsQpwUIEg',\n",
       "  '/search?q=yahoo+finance+GME&ie=UTF-8&tbm=nws&source=lnt&tbs=qdr:y&sa=X&ved=0ahUKEwjqvOuKhMLzAhXIc98KHZr_AEsQpwUIEw',\n",
       "  '/search?q=yahoo+finance+GME&ie=UTF-8&tbm=nws&source=lnt&tbs=ar:1&sa=X&ved=0ahUKEwjqvOuKhMLzAhXIc98KHZr_AEsQpwUIFA',\n",
       "  '/search?q=yahoo+finance+GME&ie=UTF-8&tbm=nws&source=lnt&tbs=sbd:1&sa=X&ved=0ahUKEwjqvOuKhMLzAhXIc98KHZr_AEsQpwUIFg',\n",
       "  '/url?q=https://finance.yahoo.com/news/game-stop-stock-is-enduring-an-awful-september-180120497.html&sa=U&ved=2ahUKEwjqvOuKhMLzAhXIc98KHZr_AEsQxfQBegQIABAB&usg=AOvVaw2mfAcgVorK8sV1VcXpK5Lf',\n",
       "  '/url?q=https://finance.yahoo.com/news/game-stop-stock-is-enduring-an-awful-september-180120497.html&sa=U&ved=2ahUKEwjqvOuKhMLzAhXIc98KHZr_AEsQ0Y8FegQIABAC&usg=AOvVaw0tudXIrvvnrPOtZt4gaXFa',\n",
       "  '/url?q=https://finance.yahoo.com/news/the-game-stop-phenomenon-triggers-potential-restrictions-in-corporate-america-213447139.html&sa=U&ved=2ahUKEwjqvOuKhMLzAhXIc98KHZr_AEsQxfQBegQICRAB&usg=AOvVaw0t8XKzjwRGSNc941K8dkGt',\n",
       "  '/url?q=https://finance.yahoo.com/news/the-game-stop-phenomenon-triggers-potential-restrictions-in-corporate-america-213447139.html&sa=U&ved=2ahUKEwjqvOuKhMLzAhXIc98KHZr_AEsQ0Y8FegQICRAC&usg=AOvVaw1O3EMykTZEzaSYkVQS90pl',\n",
       "  '/url?q=https://finance.yahoo.com/news/the-rise-of-social-trading-how-the-internet-is-changing-investing-153643100.html&sa=U&ved=2ahUKEwjqvOuKhMLzAhXIc98KHZr_AEsQxfQBegQIBxAB&usg=AOvVaw1H3flGqtucaff6RYJenxOw',\n",
       "  '/url?q=https://finance.yahoo.com/news/the-rise-of-social-trading-how-the-internet-is-changing-investing-153643100.html&sa=U&ved=2ahUKEwjqvOuKhMLzAhXIc98KHZr_AEsQ0Y8FegQIBxAC&usg=AOvVaw0IDF95JuEUgKJbubzL_b4i',\n",
       "  '/url?q=https://finance.yahoo.com/news/ken-griffin-robinhood-strike-back-180254628.html&sa=U&ved=2ahUKEwjqvOuKhMLzAhXIc98KHZr_AEsQxfQBegQICBAB&usg=AOvVaw0a_12veptg1DtFalGqfsRe',\n",
       "  '/url?q=https://finance.yahoo.com/news/ken-griffin-robinhood-strike-back-180254628.html&sa=U&ved=2ahUKEwjqvOuKhMLzAhXIc98KHZr_AEsQ0Y8FegQICBAC&usg=AOvVaw2CZyDxXFZIwqbBzuICgJc2',\n",
       "  '/url?q=https://finance.yahoo.com/news/significant-role-of-retail-investing-here-to-stay-suzanne-shank-164155648.html&sa=U&ved=2ahUKEwjqvOuKhMLzAhXIc98KHZr_AEsQxfQBegQIBRAB&usg=AOvVaw2O7GmugJ-07u58tu9bp_ve',\n",
       "  '/url?q=https://finance.yahoo.com/news/significant-role-of-retail-investing-here-to-stay-suzanne-shank-164155648.html&sa=U&ved=2ahUKEwjqvOuKhMLzAhXIc98KHZr_AEsQ0Y8FegQIBRAC&usg=AOvVaw2CkVPVV7Is-BCaQuolB0-9',\n",
       "  '/url?q=https://finance.yahoo.com/news/gensler-zeroes-in-on-citadel-securities-as-sec-considers-payment-for-order-flow-ban-191715790.html&sa=U&ved=2ahUKEwjqvOuKhMLzAhXIc98KHZr_AEsQxfQBegQIBhAB&usg=AOvVaw3YO6G4bqrGrzcT54vXKMbB',\n",
       "  '/url?q=https://finance.yahoo.com/news/gensler-zeroes-in-on-citadel-securities-as-sec-considers-payment-for-order-flow-ban-191715790.html&sa=U&ved=2ahUKEwjqvOuKhMLzAhXIc98KHZr_AEsQ0Y8FegQIBhAC&usg=AOvVaw3WDv5_RYYpHUYHwkCMPVEZ',\n",
       "  '/url?q=https://finance.yahoo.com/news/gainey-mckenna-egleston-announces-class-144000626.html&sa=U&ved=2ahUKEwjqvOuKhMLzAhXIc98KHZr_AEsQxfQBegQIBBAB&usg=AOvVaw0-962XETxS_YRceHmfJ6UY',\n",
       "  '/url?q=https://finance.yahoo.com/news/gainey-mckenna-egleston-announces-class-144000626.html&sa=U&ved=2ahUKEwjqvOuKhMLzAhXIc98KHZr_AEsQ0Y8FegQIBBAC&usg=AOvVaw2BA4UZdzhoxy1HJVEsMOLH',\n",
       "  '/url?q=https://finance.yahoo.com/news/michael-burry-says-received-subpoena-195853985.html&sa=U&ved=2ahUKEwjqvOuKhMLzAhXIc98KHZr_AEsQxfQBegQIAxAB&usg=AOvVaw2mGIjwU9PyWokKwFvmqoYQ',\n",
       "  '/url?q=https://finance.yahoo.com/news/michael-burry-says-received-subpoena-195853985.html&sa=U&ved=2ahUKEwjqvOuKhMLzAhXIc98KHZr_AEsQ0Y8FegQIAxAC&usg=AOvVaw2VQEXEcu5PaG9m0e6gcWnM',\n",
       "  '/url?q=https://finance.yahoo.com/news/gamestop-gme-hire-500-staff-135001043.html&sa=U&ved=2ahUKEwjqvOuKhMLzAhXIc98KHZr_AEsQxfQBegQIARAB&usg=AOvVaw2O-7kNEl20lI5wfzEdLWOa',\n",
       "  '/url?q=https://finance.yahoo.com/news/gamestop-gme-hire-500-staff-135001043.html&sa=U&ved=2ahUKEwjqvOuKhMLzAhXIc98KHZr_AEsQ0Y8FegQIARAC&usg=AOvVaw0pRIMDwHivMFLzdaep1rAp',\n",
       "  '/url?q=https://investorplace.com/2021/10/what-cei-stock-investors-are-saying-after-camber-energys-red-hot-week/&sa=U&ved=2ahUKEwjqvOuKhMLzAhXIc98KHZr_AEsQxfQBegQIAhAB&usg=AOvVaw27yAQARnbI2jS8yf9eLiJn',\n",
       "  '/url?q=https://investorplace.com/2021/10/what-cei-stock-investors-are-saying-after-camber-energys-red-hot-week/&sa=U&ved=2ahUKEwjqvOuKhMLzAhXIc98KHZr_AEsQ0Y8FegQIAhAC&usg=AOvVaw2cSApshvG2861OZwa26wRl',\n",
       "  '/search?q=yahoo+finance+GME&ie=UTF-8&tbm=nws&ei=HgJkYeq1Msjn_Qaa_4PYBA&start=10&sa=N',\n",
       "  '/url?q=https://support.google.com/websearch%3Fp%3Dws_settings_location%26hl%3Dar-TN&sa=U&ved=0ahUKEwjqvOuKhMLzAhXIc98KHZr_AEsQty4IVQ&usg=AOvVaw3imP__kMSJEZJ82izmqmJT',\n",
       "  '/url?q=https://accounts.google.com/ServiceLogin%3Fcontinue%3Dhttps://www.google.com/search%253Fq%253Dyahoo%252Bfinance%252BGME%2526tbm%253Dnws%26hl%3Dar&sa=U&ved=0ahUKEwjqvOuKhMLzAhXIc98KHZr_AEsQxs8CCFY&usg=AOvVaw3ZyAKi9QHzrvtJ5LuvVrd9',\n",
       "  'https://www.google.com/preferences?hl=ar-TN&fg=1&sa=X&ved=0ahUKEwjqvOuKhMLzAhXIc98KHZr_AEsQ5fUCCFc',\n",
       "  'https://policies.google.com/privacy?hl=ar-TN&fg=1',\n",
       "  'https://policies.google.com/terms?hl=ar-TN&fg=1'],\n",
       " 'TSLA': ['/?sa=X&ved=0ahUKEwifpKKLhMLzAhWvm-AKHcKFBEoQOwgC',\n",
       "  '/?output=search&ie=UTF-8&tbm=nws&sa=X&ved=0ahUKEwifpKKLhMLzAhWvm-AKHcKFBEoQPAgE',\n",
       "  '/search?q=yahoo+finance+TSLA&tbm=nws&ie=UTF-8&gbv=1&sei=HwJkYd-YLK-3ggfCi5LQBA',\n",
       "  '/search?q=yahoo+finance+TSLA&ie=UTF-8&source=lnms&sa=X&ved=0ahUKEwifpKKLhMLzAhWvm-AKHcKFBEoQ_AUIBygA',\n",
       "  '/search?q=yahoo+finance+TSLA&ie=UTF-8&tbm=vid&source=lnms&sa=X&ved=0ahUKEwifpKKLhMLzAhWvm-AKHcKFBEoQ_AUICSgC',\n",
       "  '/search?q=yahoo+finance+TSLA&ie=UTF-8&tbm=bks&source=lnms&sa=X&ved=0ahUKEwifpKKLhMLzAhWvm-AKHcKFBEoQ_AUICigD',\n",
       "  '/search?q=yahoo+finance+TSLA&ie=UTF-8&tbm=isch&source=lnms&sa=X&ved=0ahUKEwifpKKLhMLzAhWvm-AKHcKFBEoQ_AUICygE',\n",
       "  '/advanced_search',\n",
       "  '/search?q=yahoo+finance+TSLA&ie=UTF-8&tbm=nws&source=lnt&tbs=lr:lang_1ar&lr=lang_ar&sa=X&ved=0ahUKEwifpKKLhMLzAhWvm-AKHcKFBEoQpwUIDQ',\n",
       "  '/search?q=yahoo+finance+TSLA&ie=UTF-8&tbm=nws&source=lnt&tbs=qdr:h&sa=X&ved=0ahUKEwifpKKLhMLzAhWvm-AKHcKFBEoQpwUIDw',\n",
       "  '/search?q=yahoo+finance+TSLA&ie=UTF-8&tbm=nws&source=lnt&tbs=qdr:d&sa=X&ved=0ahUKEwifpKKLhMLzAhWvm-AKHcKFBEoQpwUIEA',\n",
       "  '/search?q=yahoo+finance+TSLA&ie=UTF-8&tbm=nws&source=lnt&tbs=qdr:w&sa=X&ved=0ahUKEwifpKKLhMLzAhWvm-AKHcKFBEoQpwUIEQ',\n",
       "  '/search?q=yahoo+finance+TSLA&ie=UTF-8&tbm=nws&source=lnt&tbs=qdr:m&sa=X&ved=0ahUKEwifpKKLhMLzAhWvm-AKHcKFBEoQpwUIEg',\n",
       "  '/search?q=yahoo+finance+TSLA&ie=UTF-8&tbm=nws&source=lnt&tbs=qdr:y&sa=X&ved=0ahUKEwifpKKLhMLzAhWvm-AKHcKFBEoQpwUIEw',\n",
       "  '/search?q=yahoo+finance+TSLA&ie=UTF-8&tbm=nws&source=lnt&tbs=ar:1&sa=X&ved=0ahUKEwifpKKLhMLzAhWvm-AKHcKFBEoQpwUIFA',\n",
       "  '/search?q=yahoo+finance+TSLA&ie=UTF-8&tbm=nws&source=lnt&tbs=sbd:1&sa=X&ved=0ahUKEwifpKKLhMLzAhWvm-AKHcKFBEoQpwUIFg',\n",
       "  '/url?q=https://finance.yahoo.com/news/tesla-stock-could-be-walloped-by-the-apple-car-analyst-161749976.html&sa=U&ved=2ahUKEwifpKKLhMLzAhWvm-AKHcKFBEoQxfQBegQIBRAB&usg=AOvVaw0HkXuv2gx4it0MfXz7R-Um',\n",
       "  '/url?q=https://finance.yahoo.com/news/tesla-stock-could-be-walloped-by-the-apple-car-analyst-161749976.html&sa=U&ved=2ahUKEwifpKKLhMLzAhWvm-AKHcKFBEoQ0Y8FegQIBRAC&usg=AOvVaw0352ZaIp6duKozzKVGjsw_',\n",
       "  '/url?q=https://finance.yahoo.com/news/hard-believe-teslas-nasdaq-tsla-225456835.html&sa=U&ved=2ahUKEwifpKKLhMLzAhWvm-AKHcKFBEoQxfQBegQIBxAB&usg=AOvVaw1iX7IZTa8yQAL4Ta8edtEn',\n",
       "  '/url?q=https://finance.yahoo.com/news/hard-believe-teslas-nasdaq-tsla-225456835.html&sa=U&ved=2ahUKEwifpKKLhMLzAhWvm-AKHcKFBEoQ0Y8FegQIBxAC&usg=AOvVaw3j_auoSxmNpJbiIqjCgUgG',\n",
       "  '/url?q=https://finance.yahoo.com/news/tesla-readies-monday-night-launch-222519174.html&sa=U&ved=2ahUKEwifpKKLhMLzAhWvm-AKHcKFBEoQxfQBegQICRAB&usg=AOvVaw3sEj1VmkKo9mtdt-EQTgHT',\n",
       "  '/url?q=https://finance.yahoo.com/news/tesla-readies-monday-night-launch-222519174.html&sa=U&ved=2ahUKEwifpKKLhMLzAhWvm-AKHcKFBEoQ0Y8FegQICRAC&usg=AOvVaw0xN3JpqZwnE_4S77Wi7vNa',\n",
       "  '/url?q=https://finance.yahoo.com/news/institutions-own-fewer-tesla-inc-121320878.html&sa=U&ved=2ahUKEwifpKKLhMLzAhWvm-AKHcKFBEoQxfQBegQICBAB&usg=AOvVaw0Z47TZja52lKnUUT5X8WfD',\n",
       "  '/url?q=https://finance.yahoo.com/news/institutions-own-fewer-tesla-inc-121320878.html&sa=U&ved=2ahUKEwifpKKLhMLzAhWvm-AKHcKFBEoQ0Y8FegQICBAC&usg=AOvVaw1wzxSbaBGoEngrLNwjFjXU',\n",
       "  '/url?q=https://finance.yahoo.com/news/tesla-is-not-enough-engine-no-1-bets-on-gm-white-paper-details-electric-vehicle-landscape-124811083.html&sa=U&ved=2ahUKEwifpKKLhMLzAhWvm-AKHcKFBEoQxfQBegQIAxAB&usg=AOvVaw1KhEA7hi5Jb9NV9SgXmxgw',\n",
       "  '/url?q=https://finance.yahoo.com/news/tesla-is-not-enough-engine-no-1-bets-on-gm-white-paper-details-electric-vehicle-landscape-124811083.html&sa=U&ved=2ahUKEwifpKKLhMLzAhWvm-AKHcKFBEoQ0Y8FegQIAxAC&usg=AOvVaw2KoHqfx_UZ4DLoPUyMeOHB',\n",
       "  '/url?q=https://finance.yahoo.com/news/tesla-annual-meeting-what-shareholders-will-vote-on-164326645.html&sa=U&ved=2ahUKEwifpKKLhMLzAhWvm-AKHcKFBEoQxfQBegQIAhAB&usg=AOvVaw03gNPEIYHAl-xueqNZr_uk',\n",
       "  '/url?q=https://finance.yahoo.com/news/tesla-annual-meeting-what-shareholders-will-vote-on-164326645.html&sa=U&ved=2ahUKEwifpKKLhMLzAhWvm-AKHcKFBEoQ0Y8FegQIAhAC&usg=AOvVaw13lM23CcxxF5zRpPaL3Y0F',\n",
       "  '/url?q=https://finance.yahoo.com/video/apple-potential-2024-car-launch-143545777.html&sa=U&ved=2ahUKEwifpKKLhMLzAhWvm-AKHcKFBEoQxfQBegQIABAB&usg=AOvVaw3Tb3axNXQbxtuc9zazVrRc',\n",
       "  '/url?q=https://finance.yahoo.com/video/apple-potential-2024-car-launch-143545777.html&sa=U&ved=2ahUKEwifpKKLhMLzAhWvm-AKHcKFBEoQ0Y8FegQIABAC&usg=AOvVaw2Px_g6Xbb88_LWolrsLzrM',\n",
       "  '/url?q=https://finance.yahoo.com/news/tesla-verdict-owen-diaz-194928289.html&sa=U&ved=2ahUKEwifpKKLhMLzAhWvm-AKHcKFBEoQxfQBegQIBhAB&usg=AOvVaw3kCXSejAvKpDImQZ9kveze',\n",
       "  '/url?q=https://finance.yahoo.com/news/tesla-verdict-owen-diaz-194928289.html&sa=U&ved=2ahUKEwifpKKLhMLzAhWvm-AKHcKFBEoQ0Y8FegQIBhAC&usg=AOvVaw3QL7Rf1skCR26fXZDAVz4J',\n",
       "  '/url?q=https://finance.yahoo.com/news/tesla-tsla-still-great-investment-163812046.html&sa=U&ved=2ahUKEwifpKKLhMLzAhWvm-AKHcKFBEoQxfQBegQIARAB&usg=AOvVaw01YT_ltlL2oi-kTFN_o8E3',\n",
       "  '/url?q=https://finance.yahoo.com/news/tesla-tsla-still-great-investment-163812046.html&sa=U&ved=2ahUKEwifpKKLhMLzAhWvm-AKHcKFBEoQ0Y8FegQIARAC&usg=AOvVaw2dBwFdTUsAjivNsOv0xxPO',\n",
       "  '/url?q=https://finance.yahoo.com/news/why-shares-of-these-two-old-automakers-are-on-fire-181257566.html&sa=U&ved=2ahUKEwifpKKLhMLzAhWvm-AKHcKFBEoQxfQBegQIBBAB&usg=AOvVaw13nCUfz6Bmtq-u2596ieaa',\n",
       "  '/url?q=https://finance.yahoo.com/news/why-shares-of-these-two-old-automakers-are-on-fire-181257566.html&sa=U&ved=2ahUKEwifpKKLhMLzAhWvm-AKHcKFBEoQ0Y8FegQIBBAC&usg=AOvVaw0FWQwLfxnnDZ4gBS2HI6_v',\n",
       "  '/search?q=yahoo+finance+TSLA&ie=UTF-8&tbm=nws&ei=HwJkYd-YLK-3ggfCi5LQBA&start=10&sa=N',\n",
       "  '/url?q=https://support.google.com/websearch%3Fp%3Dws_settings_location%26hl%3Dar-TN&sa=U&ved=0ahUKEwifpKKLhMLzAhWvm-AKHcKFBEoQty4IVQ&usg=AOvVaw16xoQ7fS_nlbDI82AnHysG',\n",
       "  '/url?q=https://accounts.google.com/ServiceLogin%3Fcontinue%3Dhttps://www.google.com/search%253Fq%253Dyahoo%252Bfinance%252BTSLA%2526tbm%253Dnws%26hl%3Dar&sa=U&ved=0ahUKEwifpKKLhMLzAhWvm-AKHcKFBEoQxs8CCFY&usg=AOvVaw346KLvWYmZaQ5IduEc2W99',\n",
       "  'https://www.google.com/preferences?hl=ar-TN&fg=1&sa=X&ved=0ahUKEwifpKKLhMLzAhWvm-AKHcKFBEoQ5fUCCFc',\n",
       "  'https://policies.google.com/privacy?hl=ar-TN&fg=1',\n",
       "  'https://policies.google.com/terms?hl=ar-TN&fg=1'],\n",
       " 'BTC': ['/?sa=X&ved=0ahUKEwjqn9qLhMLzAhVPmeAKHV5ECBQQOwgC',\n",
       "  '/?output=search&ie=UTF-8&tbm=nws&sa=X&ved=0ahUKEwjqn9qLhMLzAhVPmeAKHV5ECBQQPAgE',\n",
       "  '/search?q=yahoo+finance+BTC&tbm=nws&ie=UTF-8&gbv=1&sei=IAJkYeqPJ8-yggfeiKGgAQ',\n",
       "  '/search?q=yahoo+finance+BTC&ie=UTF-8&source=lnms&sa=X&ved=0ahUKEwjqn9qLhMLzAhVPmeAKHV5ECBQQ_AUIBygA',\n",
       "  '/search?q=yahoo+finance+BTC&ie=UTF-8&tbm=isch&source=lnms&sa=X&ved=0ahUKEwjqn9qLhMLzAhVPmeAKHV5ECBQQ_AUICSgC',\n",
       "  '/search?q=yahoo+finance+BTC&ie=UTF-8&tbm=vid&source=lnms&sa=X&ved=0ahUKEwjqn9qLhMLzAhVPmeAKHV5ECBQQ_AUICigD',\n",
       "  '/search?q=yahoo+finance+BTC&ie=UTF-8&tbm=bks&source=lnms&sa=X&ved=0ahUKEwjqn9qLhMLzAhVPmeAKHV5ECBQQ_AUICygE',\n",
       "  '/advanced_search',\n",
       "  '/search?q=yahoo+finance+BTC&ie=UTF-8&tbm=nws&source=lnt&tbs=lr:lang_1ar&lr=lang_ar&sa=X&ved=0ahUKEwjqn9qLhMLzAhVPmeAKHV5ECBQQpwUIDQ',\n",
       "  '/search?q=yahoo+finance+BTC&ie=UTF-8&tbm=nws&source=lnt&tbs=qdr:h&sa=X&ved=0ahUKEwjqn9qLhMLzAhVPmeAKHV5ECBQQpwUIDw',\n",
       "  '/search?q=yahoo+finance+BTC&ie=UTF-8&tbm=nws&source=lnt&tbs=qdr:d&sa=X&ved=0ahUKEwjqn9qLhMLzAhVPmeAKHV5ECBQQpwUIEA',\n",
       "  '/search?q=yahoo+finance+BTC&ie=UTF-8&tbm=nws&source=lnt&tbs=qdr:w&sa=X&ved=0ahUKEwjqn9qLhMLzAhVPmeAKHV5ECBQQpwUIEQ',\n",
       "  '/search?q=yahoo+finance+BTC&ie=UTF-8&tbm=nws&source=lnt&tbs=qdr:m&sa=X&ved=0ahUKEwjqn9qLhMLzAhVPmeAKHV5ECBQQpwUIEg',\n",
       "  '/search?q=yahoo+finance+BTC&ie=UTF-8&tbm=nws&source=lnt&tbs=qdr:y&sa=X&ved=0ahUKEwjqn9qLhMLzAhVPmeAKHV5ECBQQpwUIEw',\n",
       "  '/search?q=yahoo+finance+BTC&ie=UTF-8&tbm=nws&source=lnt&tbs=ar:1&sa=X&ved=0ahUKEwjqn9qLhMLzAhVPmeAKHV5ECBQQpwUIFA',\n",
       "  '/search?q=yahoo+finance+BTC&ie=UTF-8&tbm=nws&source=lnt&tbs=sbd:1&sa=X&ved=0ahUKEwjqn9qLhMLzAhVPmeAKHV5ECBQQpwUIFg',\n",
       "  '/url?q=https://finance.yahoo.com/news/bought-1-6b-bitcoin-wednesday-155000568.html&sa=U&ved=2ahUKEwjqn9qLhMLzAhVPmeAKHV5ECBQQxfQBegQIBhAB&usg=AOvVaw2kv_WZMMADkBhsmPOT8Cvp',\n",
       "  '/url?q=https://finance.yahoo.com/news/bought-1-6b-bitcoin-wednesday-155000568.html&sa=U&ved=2ahUKEwjqn9qLhMLzAhVPmeAKHV5ECBQQ0Y8FegQIBhAC&usg=AOvVaw1HtOd1NCn8jrwML-7KSay5',\n",
       "  '/url?q=https://finance.yahoo.com/news/bitcoins-october-price-rise-suggests-near-term-crypto-bull-run-amid-regulation-191521695.html&sa=U&ved=2ahUKEwjqn9qLhMLzAhVPmeAKHV5ECBQQxfQBegQICBAB&usg=AOvVaw1nb98pYqG0MvN8Xvwoqmx2',\n",
       "  '/url?q=https://finance.yahoo.com/news/bitcoins-october-price-rise-suggests-near-term-crypto-bull-run-amid-regulation-191521695.html&sa=U&ved=2ahUKEwjqn9qLhMLzAhVPmeAKHV5ECBQQ0Y8FegQICBAC&usg=AOvVaw38rSiO3SPNoYObkfrFmAdQ',\n",
       "  '/url?q=https://finance.yahoo.com/news/bitcoin-price-rally-fueled-whales-201820117.html&sa=U&ved=2ahUKEwjqn9qLhMLzAhVPmeAKHV5ECBQQxfQBegQICRAB&usg=AOvVaw3HtaH66uz6M-2hww9Jh0s7',\n",
       "  '/url?q=https://finance.yahoo.com/news/bitcoin-price-rally-fueled-whales-201820117.html&sa=U&ved=2ahUKEwjqn9qLhMLzAhVPmeAKHV5ECBQQ0Y8FegQICRAC&usg=AOvVaw2wpoSdZG6u1IpZIQldd26k',\n",
       "  '/url?q=https://finance.yahoo.com/news/bitcoin-rally-90k-begun-060947691.html&sa=U&ved=2ahUKEwjqn9qLhMLzAhVPmeAKHV5ECBQQxfQBegQIBxAB&usg=AOvVaw2BpbmqRTwkrYoC7PdZqnCL',\n",
       "  '/url?q=https://finance.yahoo.com/news/bitcoin-rally-90k-begun-060947691.html&sa=U&ved=2ahUKEwjqn9qLhMLzAhVPmeAKHV5ECBQQ0Y8FegQIBxAC&usg=AOvVaw0_rcPWLMrS0ZscatufcMRZ',\n",
       "  '/url?q=https://finance.yahoo.com/news/vitalik-buterin-calls-mandatory-bitcoin-184654330.html&sa=U&ved=2ahUKEwjqn9qLhMLzAhVPmeAKHV5ECBQQxfQBegQIBRAB&usg=AOvVaw11l1FNWrGujEoEa2tpq6U2',\n",
       "  '/url?q=https://finance.yahoo.com/news/vitalik-buterin-calls-mandatory-bitcoin-184654330.html&sa=U&ved=2ahUKEwjqn9qLhMLzAhVPmeAKHV5ECBQQ0Y8FegQIBRAC&usg=AOvVaw2xqzIfBpbSrDiVuhbRf6uX',\n",
       "  '/url?q=https://finance.yahoo.com/news/the-true-difference-between-bitcoin-and-ethereum-according-to-grayscales-ceo-195502446.html&sa=U&ved=2ahUKEwjqn9qLhMLzAhVPmeAKHV5ECBQQxfQBegQIAhAB&usg=AOvVaw2xOTecSp7p7eS3qWpWGTMU',\n",
       "  '/url?q=https://finance.yahoo.com/news/the-true-difference-between-bitcoin-and-ethereum-according-to-grayscales-ceo-195502446.html&sa=U&ved=2ahUKEwjqn9qLhMLzAhVPmeAKHV5ECBQQ0Y8FegQIAhAC&usg=AOvVaw2Cff0Xs2eTM4Q0H_MPiHaa',\n",
       "  '/url?q=https://finance.yahoo.com/news/big-short-investor-michael-burry-100448184.html&sa=U&ved=2ahUKEwjqn9qLhMLzAhVPmeAKHV5ECBQQxfQBegQIAxAB&usg=AOvVaw0pXCDXHwXVmd0jIrDV-epx',\n",
       "  '/url?q=https://finance.yahoo.com/news/big-short-investor-michael-burry-100448184.html&sa=U&ved=2ahUKEwjqn9qLhMLzAhVPmeAKHV5ECBQQ0Y8FegQIAxAC&usg=AOvVaw3jqsLZM_lOYr757INLjdfh',\n",
       "  '/url?q=https://finance.yahoo.com/news/bitcoin-retakes-47000-in-broad-crypto-rally-as-anxiety-over-regulation-eases-170059924.html&sa=U&ved=2ahUKEwjqn9qLhMLzAhVPmeAKHV5ECBQQxfQBegQIABAB&usg=AOvVaw2yuSESCoDuH6uMIN1J4L8r',\n",
       "  '/url?q=https://finance.yahoo.com/news/bitcoin-retakes-47000-in-broad-crypto-rally-as-anxiety-over-regulation-eases-170059924.html&sa=U&ved=2ahUKEwjqn9qLhMLzAhVPmeAKHV5ECBQQ0Y8FegQIABAC&usg=AOvVaw0ZEXNUzt6ABZrRlpnK7wtJ',\n",
       "  '/url?q=https://finance.yahoo.com/news/market-wrap-analysts-bullish-bitcoin-203802204.html&sa=U&ved=2ahUKEwjqn9qLhMLzAhVPmeAKHV5ECBQQxfQBegQIBBAB&usg=AOvVaw3xv_XZjLcXzP5U1cw59bil',\n",
       "  '/url?q=https://finance.yahoo.com/news/market-wrap-analysts-bullish-bitcoin-203802204.html&sa=U&ved=2ahUKEwjqn9qLhMLzAhVPmeAKHV5ECBQQ0Y8FegQIBBAC&usg=AOvVaw3yvB7Yv9vxdNI6rW_orLTw',\n",
       "  '/url?q=https://finance.yahoo.com/news/latest-bitcoin-price-analysis-btc-144716198.html&sa=U&ved=2ahUKEwjqn9qLhMLzAhVPmeAKHV5ECBQQxfQBegQIARAB&usg=AOvVaw1YXZfnJfoiC_EgAAqKRnFQ',\n",
       "  '/url?q=https://finance.yahoo.com/news/latest-bitcoin-price-analysis-btc-144716198.html&sa=U&ved=2ahUKEwjqn9qLhMLzAhVPmeAKHV5ECBQQ0Y8FegQIARAC&usg=AOvVaw33RAQVyr7qNO7w_AQPdR64',\n",
       "  '/search?q=yahoo+finance+BTC&ie=UTF-8&tbm=nws&ei=IAJkYeqPJ8-yggfeiKGgAQ&start=10&sa=N',\n",
       "  '/url?q=https://support.google.com/websearch%3Fp%3Dws_settings_location%26hl%3Dar-TN&sa=U&ved=0ahUKEwjqn9qLhMLzAhVPmeAKHV5ECBQQty4IVQ&usg=AOvVaw0kFDPcQ1PLSt8Updc5Kj_G',\n",
       "  '/url?q=https://accounts.google.com/ServiceLogin%3Fcontinue%3Dhttps://www.google.com/search%253Fq%253Dyahoo%252Bfinance%252BBTC%2526tbm%253Dnws%26hl%3Dar&sa=U&ved=0ahUKEwjqn9qLhMLzAhVPmeAKHV5ECBQQxs8CCFY&usg=AOvVaw2AqUE7ixNjKzXLoa8h1IB_',\n",
       "  'https://www.google.com/preferences?hl=ar-TN&fg=1&sa=X&ved=0ahUKEwjqn9qLhMLzAhVPmeAKHV5ECBQQ5fUCCFc',\n",
       "  'https://policies.google.com/privacy?hl=ar-TN&fg=1',\n",
       "  'https://policies.google.com/terms?hl=ar-TN&fg=1']}"
      ]
     },
     "execution_count": 23,
     "metadata": {},
     "output_type": "execute_result"
    }
   ],
   "source": [
    "raw_urls"
   ]
  },
  {
   "cell_type": "code",
   "execution_count": 20,
   "id": "69cd9d14",
   "metadata": {},
   "outputs": [],
   "source": [
    "#testing\n",
    "#raw_urls['GME']"
   ]
  },
  {
   "cell_type": "markdown",
   "id": "bbd8a367",
   "metadata": {},
   "source": [
    "#### 4.2. Strip out unwanted URLs"
   ]
  },
  {
   "cell_type": "code",
   "execution_count": 24,
   "id": "1eb7a896",
   "metadata": {},
   "outputs": [],
   "source": [
    "import re"
   ]
  },
  {
   "cell_type": "code",
   "execution_count": 25,
   "id": "5614e333",
   "metadata": {},
   "outputs": [],
   "source": [
    "exclude_list = ['maps', 'policies', 'preferences', 'accounts', 'support']"
   ]
  },
  {
   "cell_type": "code",
   "execution_count": 26,
   "id": "f7aa07bb",
   "metadata": {},
   "outputs": [],
   "source": [
    "def strip_unwanted_urls(urls, exclude_list):\n",
    "    val = []\n",
    "    for url in urls: \n",
    "        if 'https://' in url and not any(exclude_word in url for exclude_word in exclude_list):\n",
    "            res = re.findall(r'(https?://\\S+)', url)[0].split('&')[0]\n",
    "            val.append(res)\n",
    "    return list(set(val))"
   ]
  },
  {
   "cell_type": "code",
   "execution_count": 29,
   "id": "a9cf7760",
   "metadata": {},
   "outputs": [],
   "source": [
    "#testing function strip_unwanted_urls\n",
    "#strip_unwanted_urls(raw_urls['GME'],exclude_list)"
   ]
  },
  {
   "cell_type": "markdown",
   "id": "e688780a",
   "metadata": {},
   "source": [
    "#### 4.3. Search and Scrape Cleaned URLs"
   ]
  },
  {
   "cell_type": "code",
   "execution_count": 32,
   "id": "d4ea43bc",
   "metadata": {},
   "outputs": [
    {
     "data": {
      "text/plain": [
       "{'GME': ['https://finance.yahoo.com/news/gainey-mckenna-egleston-announces-class-144000626.html',\n",
       "  'https://investorplace.com/2021/10/what-cei-stock-investors-are-saying-after-camber-energys-red-hot-week/',\n",
       "  'https://finance.yahoo.com/news/the-rise-of-social-trading-how-the-internet-is-changing-investing-153643100.html',\n",
       "  'https://finance.yahoo.com/news/michael-burry-says-received-subpoena-195853985.html',\n",
       "  'https://finance.yahoo.com/news/ken-griffin-robinhood-strike-back-180254628.html',\n",
       "  'https://finance.yahoo.com/news/game-stop-stock-is-enduring-an-awful-september-180120497.html',\n",
       "  'https://finance.yahoo.com/news/significant-role-of-retail-investing-here-to-stay-suzanne-shank-164155648.html',\n",
       "  'https://finance.yahoo.com/news/gensler-zeroes-in-on-citadel-securities-as-sec-considers-payment-for-order-flow-ban-191715790.html',\n",
       "  'https://finance.yahoo.com/news/gamestop-gme-hire-500-staff-135001043.html',\n",
       "  'https://finance.yahoo.com/news/the-game-stop-phenomenon-triggers-potential-restrictions-in-corporate-america-213447139.html'],\n",
       " 'TSLA': ['https://finance.yahoo.com/news/institutions-own-fewer-tesla-inc-121320878.html',\n",
       "  'https://finance.yahoo.com/news/tesla-is-not-enough-engine-no-1-bets-on-gm-white-paper-details-electric-vehicle-landscape-124811083.html',\n",
       "  'https://finance.yahoo.com/news/tesla-annual-meeting-what-shareholders-will-vote-on-164326645.html',\n",
       "  'https://finance.yahoo.com/news/why-shares-of-these-two-old-automakers-are-on-fire-181257566.html',\n",
       "  'https://finance.yahoo.com/news/tesla-stock-could-be-walloped-by-the-apple-car-analyst-161749976.html',\n",
       "  'https://finance.yahoo.com/news/tesla-readies-monday-night-launch-222519174.html',\n",
       "  'https://finance.yahoo.com/news/tesla-verdict-owen-diaz-194928289.html',\n",
       "  'https://finance.yahoo.com/news/tesla-tsla-still-great-investment-163812046.html',\n",
       "  'https://finance.yahoo.com/news/hard-believe-teslas-nasdaq-tsla-225456835.html',\n",
       "  'https://finance.yahoo.com/video/apple-potential-2024-car-launch-143545777.html'],\n",
       " 'BTC': ['https://finance.yahoo.com/news/bitcoin-retakes-47000-in-broad-crypto-rally-as-anxiety-over-regulation-eases-170059924.html',\n",
       "  'https://finance.yahoo.com/news/market-wrap-analysts-bullish-bitcoin-203802204.html',\n",
       "  'https://finance.yahoo.com/news/bitcoin-rally-90k-begun-060947691.html',\n",
       "  'https://finance.yahoo.com/news/latest-bitcoin-price-analysis-btc-144716198.html',\n",
       "  'https://finance.yahoo.com/news/bought-1-6b-bitcoin-wednesday-155000568.html',\n",
       "  'https://finance.yahoo.com/news/the-true-difference-between-bitcoin-and-ethereum-according-to-grayscales-ceo-195502446.html',\n",
       "  'https://finance.yahoo.com/news/vitalik-buterin-calls-mandatory-bitcoin-184654330.html',\n",
       "  'https://finance.yahoo.com/news/bitcoin-price-rally-fueled-whales-201820117.html',\n",
       "  'https://finance.yahoo.com/news/bitcoins-october-price-rise-suggests-near-term-crypto-bull-run-amid-regulation-191521695.html',\n",
       "  'https://finance.yahoo.com/news/big-short-investor-michael-burry-100448184.html']}"
      ]
     },
     "execution_count": 32,
     "metadata": {},
     "output_type": "execute_result"
    }
   ],
   "source": [
    "cleaned_urls = {tricker:strip_unwanted_urls(raw_urls[tricker],exclude_list) for tricker in monitored_tickers}\n",
    "cleaned_urls"
   ]
  },
  {
   "cell_type": "code",
   "execution_count": 37,
   "id": "428dbeec",
   "metadata": {},
   "outputs": [],
   "source": [
    "def scrape_and_process(URLs):\n",
    "    ARTICLES = []\n",
    "    for url in URLs: \n",
    "        r = requests.get(url)\n",
    "        soup = BeautifulSoup(r.text, 'html.parser')\n",
    "        paragraphs = soup.find_all('p')\n",
    "        text = [paragraph.text for paragraph in paragraphs]\n",
    "        words = ' '.join(text).split(' ')[:350]\n",
    "        ARTICLE = ' '.join(words)\n",
    "        ARTICLES.append(ARTICLE)\n",
    "    return ARTICLES"
   ]
  },
  {
   "cell_type": "code",
   "execution_count": 39,
   "id": "12d44856",
   "metadata": {},
   "outputs": [],
   "source": [
    "#testing function scrape_and_process\n",
    "#articles = {ticker:scrape_and_process(cleaned_urls[ticker]) for ticker in monitored_tickers}\n",
    "#\n"
   ]
  },
  {
   "cell_type": "markdown",
   "id": "ba236bdc",
   "metadata": {},
   "source": [
    "#### 4.4. Summarise all Articles"
   ]
  },
  {
   "cell_type": "code",
   "execution_count": 42,
   "id": "a5b21c71",
   "metadata": {},
   "outputs": [],
   "source": [
    "def summarize(articles):\n",
    "    summaries = []\n",
    "    for article in articles:\n",
    "        input_ids = tokenizer.encode(article, return_tensors='pt')\n",
    "        output = model.generate(input_ids, max_length=55, num_beams=5, early_stopping=True)\n",
    "        summary = tokenizer.decode(output[0], skip_special_tokens=True)\n",
    "        summaries.append(summary)\n",
    "    return summaries"
   ]
  },
  {
   "cell_type": "code",
   "execution_count": 43,
   "id": "49742777",
   "metadata": {},
   "outputs": [
    {
     "data": {
      "text/plain": [
       "{'GME': ['Complaint alleges that defendants made false and misleading statements and/or lacked a reasonable basis.',\n",
       "  'Energy and power solutions provider has been on a wild ride. Social media communities think it could go to the moon',\n",
       "  'Social trading apps are competing for a slice of the pie.',\n",
       "  'Michael Burry says he received a subpoena from SEC. Rally in video-game retailer’s shares sparked meme-stock frenzy',\n",
       "  'Retail investors say Citadel Securities pressured them. Miami says claims in lawsuit are ‘unsubstantiated’',\n",
       "  'Shares of the self-described tech company are down 12% so far in September. One could be punishing meme trader crowd for lack of clarity',\n",
       "  \"‘Retail factor is here to stay,' says Siebert Williams Shank. Off-exchange trading made up 47.2% of equity volume in January 2021\",\n",
       "  '‘I’m pro competition,’ SEC chair says. Payments for order flow may make markets less efficient',\n",
       "  'Plans to hire nearly 500 employees at new customer service center in Pembroke Pines, FL. Company has been undertaking radical digital transformation efforts',\n",
       "  'Financial-services firm fined $4 million for not properly supervising ‘Roaring Kitty’. Broker-dealer should have been more clear on social media, analyst says'],\n",
       " 'TSLA': ['Tesla just obtained a patent for laser beam wiper technology.',\n",
       "  'Activist investment firm Engine No. 1 recommends GM as EV alternative.',\n",
       "  'Activists seek to oust Musk’s brother from the board. Electric car giant is also facing scrutiny over its employment practices',\n",
       "  'Shares of Ford and GM have gained about 15.5% and 15.5%, respectively.',\n",
       "  'Tesla faces increased competition from traditional automakers. Apple car launch is biggest catalyst over next couple of years',\n",
       "  'Musk says number of drivers with a perfect safety score is on the rise. Tesla to roll out latest self-driving software to eligible drivers',\n",
       "  'Jurors awarded $137 million in racial discrimination case. Tesla says it will appeal, calling the decision ‘unfair.’',\n",
       "  'Tesla, SPOT, SHOP, ABNB among fund’s top holdings. Tesla returned 12.46% since the beginning of the year',\n",
       "  'Record-breaking vehicle production and distribution numbers are a good time to re-evaluate fundamentals.',\n",
       "  'We are aware of the issue and are working to resolve it.'],\n",
       " 'BTC': ['Signals this week from U.S. regulators boosted sentiment.',\n",
       "  'Analysts expect trading volumes to remain elevated',\n",
       "  'The preferred view remains BTC is in a new bull run to new all-time highs. Bitcoin daily charts with detailed EWP count and technical indicators',\n",
       "  'Largest cryptocurrency is trading at $44,000 after plunging to as low as $42,500.',\n",
       "  '$1.6 billion purchase was made on a central exchange. Some see it as a signal of bullishness, others say it’s just a case of ‘buying on the cheap’',\n",
       "  'Ethereum is meant to be more of a gas to power applications, Grayscale CEO says.',\n",
       "  'Vitalik Buterin says making it mandatory is contrary to ideals of freedom. El Salvador has been slow to adopt the digital currency',\n",
       "  'Data show large bitcoin purchases on centralized exchanges. But independent blockchain data analyst says buying mostly came from Coinbase',\n",
       "  'Largest cryptocurrency is up more than 15% in the past week.',\n",
       "  'Hedge fund manager has been ringing the alarm on crypto. Shiba inu has more than tripled in the past week']}"
      ]
     },
     "execution_count": 43,
     "metadata": {},
     "output_type": "execute_result"
    }
   ],
   "source": [
    "summaries = {ticker:summarize(articles[ticker]) for ticker in monitored_tickers}\n",
    "summaries"
   ]
  },
  {
   "cell_type": "code",
   "execution_count": 44,
   "id": "7824ae98",
   "metadata": {},
   "outputs": [
    {
     "data": {
      "text/plain": [
       "['Signals this week from U.S. regulators boosted sentiment.',\n",
       " 'Analysts expect trading volumes to remain elevated',\n",
       " 'The preferred view remains BTC is in a new bull run to new all-time highs. Bitcoin daily charts with detailed EWP count and technical indicators',\n",
       " 'Largest cryptocurrency is trading at $44,000 after plunging to as low as $42,500.',\n",
       " '$1.6 billion purchase was made on a central exchange. Some see it as a signal of bullishness, others say it’s just a case of ‘buying on the cheap’',\n",
       " 'Ethereum is meant to be more of a gas to power applications, Grayscale CEO says.',\n",
       " 'Vitalik Buterin says making it mandatory is contrary to ideals of freedom. El Salvador has been slow to adopt the digital currency',\n",
       " 'Data show large bitcoin purchases on centralized exchanges. But independent blockchain data analyst says buying mostly came from Coinbase',\n",
       " 'Largest cryptocurrency is up more than 15% in the past week.',\n",
       " 'Hedge fund manager has been ringing the alarm on crypto. Shiba inu has more than tripled in the past week']"
      ]
     },
     "execution_count": 44,
     "metadata": {},
     "output_type": "execute_result"
    }
   ],
   "source": [
    "#testing with BTC\n",
    "summaries['BTC']"
   ]
  },
  {
   "cell_type": "markdown",
   "id": "62be4dc9",
   "metadata": {},
   "source": [
    "### 5. Adding Sentiment Analysis"
   ]
  },
  {
   "cell_type": "code",
   "execution_count": 45,
   "id": "29e72408",
   "metadata": {},
   "outputs": [
    {
     "data": {
      "application/vnd.jupyter.widget-view+json": {
       "model_id": "6366016516ba4850a641e13aa4348ebd",
       "version_major": 2,
       "version_minor": 0
      },
      "text/plain": [
       "Downloading:   0%|          | 0.00/629 [00:00<?, ?B/s]"
      ]
     },
     "metadata": {},
     "output_type": "display_data"
    },
    {
     "data": {
      "application/vnd.jupyter.widget-view+json": {
       "model_id": "2d0a2535a98f456c985921abeb589ff2",
       "version_major": 2,
       "version_minor": 0
      },
      "text/plain": [
       "Downloading:   0%|          | 0.00/268M [00:00<?, ?B/s]"
      ]
     },
     "metadata": {},
     "output_type": "display_data"
    },
    {
     "data": {
      "application/vnd.jupyter.widget-view+json": {
       "model_id": "501269a79147476cabac729da040537c",
       "version_major": 2,
       "version_minor": 0
      },
      "text/plain": [
       "Downloading:   0%|          | 0.00/48.0 [00:00<?, ?B/s]"
      ]
     },
     "metadata": {},
     "output_type": "display_data"
    },
    {
     "data": {
      "application/vnd.jupyter.widget-view+json": {
       "model_id": "ac576d1ac01844deac35300aa4c121da",
       "version_major": 2,
       "version_minor": 0
      },
      "text/plain": [
       "Downloading:   0%|          | 0.00/232k [00:00<?, ?B/s]"
      ]
     },
     "metadata": {},
     "output_type": "display_data"
    }
   ],
   "source": [
    "from transformers import pipeline\n",
    "sentiment = pipeline('sentiment-analysis')"
   ]
  },
  {
   "cell_type": "code",
   "execution_count": 47,
   "id": "29a05652",
   "metadata": {},
   "outputs": [
    {
     "data": {
      "text/plain": [
       "[{'label': 'POSITIVE', 'score': 0.9887939691543579},\n",
       " {'label': 'POSITIVE', 'score': 0.8669217228889465},\n",
       " {'label': 'NEGATIVE', 'score': 0.7618804574012756},\n",
       " {'label': 'NEGATIVE', 'score': 0.9983111023902893},\n",
       " {'label': 'NEGATIVE', 'score': 0.9990121722221375},\n",
       " {'label': 'NEGATIVE', 'score': 0.9987099766731262},\n",
       " {'label': 'NEGATIVE', 'score': 0.9957336783409119},\n",
       " {'label': 'NEGATIVE', 'score': 0.9950243234634399},\n",
       " {'label': 'NEGATIVE', 'score': 0.7754116654396057},\n",
       " {'label': 'NEGATIVE', 'score': 0.9789251089096069}]"
      ]
     },
     "execution_count": 47,
     "metadata": {},
     "output_type": "execute_result"
    }
   ],
   "source": [
    "sentiment(summaries['BTC'])"
   ]
  },
  {
   "cell_type": "code",
   "execution_count": 51,
   "id": "faedc32c",
   "metadata": {},
   "outputs": [],
   "source": [
    "scores = {ticker:sentiment(summaries[ticker]) for ticker in monitored_tickers}"
   ]
  },
  {
   "cell_type": "code",
   "execution_count": 57,
   "id": "dfb12fd5",
   "metadata": {},
   "outputs": [],
   "source": [
    "#testing the sentiment analysis with summaries work\n",
    "#print(summaries['BTC'][0], scores['BTC'][0]['label'],scores['BTC'][0]['score'])"
   ]
  },
  {
   "cell_type": "code",
   "execution_count": 54,
   "id": "15803612",
   "metadata": {},
   "outputs": [
    {
     "data": {
      "text/plain": [
       "{'GME': [{'label': 'NEGATIVE', 'score': 0.9994003176689148},\n",
       "  {'label': 'POSITIVE', 'score': 0.9961391091346741},\n",
       "  {'label': 'NEGATIVE', 'score': 0.9865431785583496},\n",
       "  {'label': 'NEGATIVE', 'score': 0.9614684581756592},\n",
       "  {'label': 'NEGATIVE', 'score': 0.9942743182182312},\n",
       "  {'label': 'NEGATIVE', 'score': 0.9997784495353699},\n",
       "  {'label': 'POSITIVE', 'score': 0.9101598262786865},\n",
       "  {'label': 'NEGATIVE', 'score': 0.9988982677459717},\n",
       "  {'label': 'POSITIVE', 'score': 0.9902737140655518},\n",
       "  {'label': 'NEGATIVE', 'score': 0.9995399713516235}],\n",
       " 'TSLA': [{'label': 'NEGATIVE', 'score': 0.9954897165298462},\n",
       "  {'label': 'POSITIVE', 'score': 0.801917552947998},\n",
       "  {'label': 'NEGATIVE', 'score': 0.9975821375846863},\n",
       "  {'label': 'NEGATIVE', 'score': 0.9670628309249878},\n",
       "  {'label': 'POSITIVE', 'score': 0.9962459206581116},\n",
       "  {'label': 'POSITIVE', 'score': 0.9839545488357544},\n",
       "  {'label': 'NEGATIVE', 'score': 0.9911378026008606},\n",
       "  {'label': 'POSITIVE', 'score': 0.99591463804245},\n",
       "  {'label': 'POSITIVE', 'score': 0.9995115399360657},\n",
       "  {'label': 'POSITIVE', 'score': 0.9979087710380554}],\n",
       " 'BTC': [{'label': 'POSITIVE', 'score': 0.9887939691543579},\n",
       "  {'label': 'POSITIVE', 'score': 0.8669217228889465},\n",
       "  {'label': 'NEGATIVE', 'score': 0.7618804574012756},\n",
       "  {'label': 'NEGATIVE', 'score': 0.9983111023902893},\n",
       "  {'label': 'NEGATIVE', 'score': 0.9990121722221375},\n",
       "  {'label': 'NEGATIVE', 'score': 0.9987099766731262},\n",
       "  {'label': 'NEGATIVE', 'score': 0.9957336783409119},\n",
       "  {'label': 'NEGATIVE', 'score': 0.9950243234634399},\n",
       "  {'label': 'NEGATIVE', 'score': 0.7754116654396057},\n",
       "  {'label': 'NEGATIVE', 'score': 0.9789251089096069}]}"
      ]
     },
     "execution_count": 54,
     "metadata": {},
     "output_type": "execute_result"
    }
   ],
   "source": [
    "scores"
   ]
  },
  {
   "cell_type": "code",
   "execution_count": 58,
   "id": "a5389a31",
   "metadata": {},
   "outputs": [],
   "source": [
    "#testing BTC scores\n",
    "#scores['BTC'][0]['score']"
   ]
  },
  {
   "cell_type": "markdown",
   "id": "87ec37fc",
   "metadata": {},
   "source": [
    "### 6. Exporting Results to CSV"
   ]
  },
  {
   "cell_type": "code",
   "execution_count": 60,
   "id": "59b2c161",
   "metadata": {
    "collapsed": true
   },
   "outputs": [
    {
     "data": {
      "text/plain": [
       "{'GME': ['Complaint alleges that defendants made false and misleading statements and/or lacked a reasonable basis.',\n",
       "  'Energy and power solutions provider has been on a wild ride. Social media communities think it could go to the moon',\n",
       "  'Social trading apps are competing for a slice of the pie.',\n",
       "  'Michael Burry says he received a subpoena from SEC. Rally in video-game retailer’s shares sparked meme-stock frenzy',\n",
       "  'Retail investors say Citadel Securities pressured them. Miami says claims in lawsuit are ‘unsubstantiated’',\n",
       "  'Shares of the self-described tech company are down 12% so far in September. One could be punishing meme trader crowd for lack of clarity',\n",
       "  \"‘Retail factor is here to stay,' says Siebert Williams Shank. Off-exchange trading made up 47.2% of equity volume in January 2021\",\n",
       "  '‘I’m pro competition,’ SEC chair says. Payments for order flow may make markets less efficient',\n",
       "  'Plans to hire nearly 500 employees at new customer service center in Pembroke Pines, FL. Company has been undertaking radical digital transformation efforts',\n",
       "  'Financial-services firm fined $4 million for not properly supervising ‘Roaring Kitty’. Broker-dealer should have been more clear on social media, analyst says'],\n",
       " 'TSLA': ['Tesla just obtained a patent for laser beam wiper technology.',\n",
       "  'Activist investment firm Engine No. 1 recommends GM as EV alternative.',\n",
       "  'Activists seek to oust Musk’s brother from the board. Electric car giant is also facing scrutiny over its employment practices',\n",
       "  'Shares of Ford and GM have gained about 15.5% and 15.5%, respectively.',\n",
       "  'Tesla faces increased competition from traditional automakers. Apple car launch is biggest catalyst over next couple of years',\n",
       "  'Musk says number of drivers with a perfect safety score is on the rise. Tesla to roll out latest self-driving software to eligible drivers',\n",
       "  'Jurors awarded $137 million in racial discrimination case. Tesla says it will appeal, calling the decision ‘unfair.’',\n",
       "  'Tesla, SPOT, SHOP, ABNB among fund’s top holdings. Tesla returned 12.46% since the beginning of the year',\n",
       "  'Record-breaking vehicle production and distribution numbers are a good time to re-evaluate fundamentals.',\n",
       "  'We are aware of the issue and are working to resolve it.'],\n",
       " 'BTC': ['Signals this week from U.S. regulators boosted sentiment.',\n",
       "  'Analysts expect trading volumes to remain elevated',\n",
       "  'The preferred view remains BTC is in a new bull run to new all-time highs. Bitcoin daily charts with detailed EWP count and technical indicators',\n",
       "  'Largest cryptocurrency is trading at $44,000 after plunging to as low as $42,500.',\n",
       "  '$1.6 billion purchase was made on a central exchange. Some see it as a signal of bullishness, others say it’s just a case of ‘buying on the cheap’',\n",
       "  'Ethereum is meant to be more of a gas to power applications, Grayscale CEO says.',\n",
       "  'Vitalik Buterin says making it mandatory is contrary to ideals of freedom. El Salvador has been slow to adopt the digital currency',\n",
       "  'Data show large bitcoin purchases on centralized exchanges. But independent blockchain data analyst says buying mostly came from Coinbase',\n",
       "  'Largest cryptocurrency is up more than 15% in the past week.',\n",
       "  'Hedge fund manager has been ringing the alarm on crypto. Shiba inu has more than tripled in the past week']}"
      ]
     },
     "execution_count": 60,
     "metadata": {},
     "output_type": "execute_result"
    }
   ],
   "source": [
    "summaries"
   ]
  },
  {
   "cell_type": "code",
   "execution_count": 61,
   "id": "e53b5745",
   "metadata": {
    "collapsed": true
   },
   "outputs": [
    {
     "data": {
      "text/plain": [
       "{'GME': [{'label': 'NEGATIVE', 'score': 0.9994003176689148},\n",
       "  {'label': 'POSITIVE', 'score': 0.9961391091346741},\n",
       "  {'label': 'NEGATIVE', 'score': 0.9865431785583496},\n",
       "  {'label': 'NEGATIVE', 'score': 0.9614684581756592},\n",
       "  {'label': 'NEGATIVE', 'score': 0.9942743182182312},\n",
       "  {'label': 'NEGATIVE', 'score': 0.9997784495353699},\n",
       "  {'label': 'POSITIVE', 'score': 0.9101598262786865},\n",
       "  {'label': 'NEGATIVE', 'score': 0.9988982677459717},\n",
       "  {'label': 'POSITIVE', 'score': 0.9902737140655518},\n",
       "  {'label': 'NEGATIVE', 'score': 0.9995399713516235}],\n",
       " 'TSLA': [{'label': 'NEGATIVE', 'score': 0.9954897165298462},\n",
       "  {'label': 'POSITIVE', 'score': 0.801917552947998},\n",
       "  {'label': 'NEGATIVE', 'score': 0.9975821375846863},\n",
       "  {'label': 'NEGATIVE', 'score': 0.9670628309249878},\n",
       "  {'label': 'POSITIVE', 'score': 0.9962459206581116},\n",
       "  {'label': 'POSITIVE', 'score': 0.9839545488357544},\n",
       "  {'label': 'NEGATIVE', 'score': 0.9911378026008606},\n",
       "  {'label': 'POSITIVE', 'score': 0.99591463804245},\n",
       "  {'label': 'POSITIVE', 'score': 0.9995115399360657},\n",
       "  {'label': 'POSITIVE', 'score': 0.9979087710380554}],\n",
       " 'BTC': [{'label': 'POSITIVE', 'score': 0.9887939691543579},\n",
       "  {'label': 'POSITIVE', 'score': 0.8669217228889465},\n",
       "  {'label': 'NEGATIVE', 'score': 0.7618804574012756},\n",
       "  {'label': 'NEGATIVE', 'score': 0.9983111023902893},\n",
       "  {'label': 'NEGATIVE', 'score': 0.9990121722221375},\n",
       "  {'label': 'NEGATIVE', 'score': 0.9987099766731262},\n",
       "  {'label': 'NEGATIVE', 'score': 0.9957336783409119},\n",
       "  {'label': 'NEGATIVE', 'score': 0.9950243234634399},\n",
       "  {'label': 'NEGATIVE', 'score': 0.7754116654396057},\n",
       "  {'label': 'NEGATIVE', 'score': 0.9789251089096069}]}"
      ]
     },
     "execution_count": 61,
     "metadata": {},
     "output_type": "execute_result"
    }
   ],
   "source": [
    "scores"
   ]
  },
  {
   "cell_type": "code",
   "execution_count": 62,
   "id": "ec4a022e",
   "metadata": {
    "collapsed": true
   },
   "outputs": [
    {
     "data": {
      "text/plain": [
       "{'GME': ['https://finance.yahoo.com/news/gainey-mckenna-egleston-announces-class-144000626.html',\n",
       "  'https://investorplace.com/2021/10/what-cei-stock-investors-are-saying-after-camber-energys-red-hot-week/',\n",
       "  'https://finance.yahoo.com/news/the-rise-of-social-trading-how-the-internet-is-changing-investing-153643100.html',\n",
       "  'https://finance.yahoo.com/news/michael-burry-says-received-subpoena-195853985.html',\n",
       "  'https://finance.yahoo.com/news/ken-griffin-robinhood-strike-back-180254628.html',\n",
       "  'https://finance.yahoo.com/news/game-stop-stock-is-enduring-an-awful-september-180120497.html',\n",
       "  'https://finance.yahoo.com/news/significant-role-of-retail-investing-here-to-stay-suzanne-shank-164155648.html',\n",
       "  'https://finance.yahoo.com/news/gensler-zeroes-in-on-citadel-securities-as-sec-considers-payment-for-order-flow-ban-191715790.html',\n",
       "  'https://finance.yahoo.com/news/gamestop-gme-hire-500-staff-135001043.html',\n",
       "  'https://finance.yahoo.com/news/the-game-stop-phenomenon-triggers-potential-restrictions-in-corporate-america-213447139.html'],\n",
       " 'TSLA': ['https://finance.yahoo.com/news/institutions-own-fewer-tesla-inc-121320878.html',\n",
       "  'https://finance.yahoo.com/news/tesla-is-not-enough-engine-no-1-bets-on-gm-white-paper-details-electric-vehicle-landscape-124811083.html',\n",
       "  'https://finance.yahoo.com/news/tesla-annual-meeting-what-shareholders-will-vote-on-164326645.html',\n",
       "  'https://finance.yahoo.com/news/why-shares-of-these-two-old-automakers-are-on-fire-181257566.html',\n",
       "  'https://finance.yahoo.com/news/tesla-stock-could-be-walloped-by-the-apple-car-analyst-161749976.html',\n",
       "  'https://finance.yahoo.com/news/tesla-readies-monday-night-launch-222519174.html',\n",
       "  'https://finance.yahoo.com/news/tesla-verdict-owen-diaz-194928289.html',\n",
       "  'https://finance.yahoo.com/news/tesla-tsla-still-great-investment-163812046.html',\n",
       "  'https://finance.yahoo.com/news/hard-believe-teslas-nasdaq-tsla-225456835.html',\n",
       "  'https://finance.yahoo.com/video/apple-potential-2024-car-launch-143545777.html'],\n",
       " 'BTC': ['https://finance.yahoo.com/news/bitcoin-retakes-47000-in-broad-crypto-rally-as-anxiety-over-regulation-eases-170059924.html',\n",
       "  'https://finance.yahoo.com/news/market-wrap-analysts-bullish-bitcoin-203802204.html',\n",
       "  'https://finance.yahoo.com/news/bitcoin-rally-90k-begun-060947691.html',\n",
       "  'https://finance.yahoo.com/news/latest-bitcoin-price-analysis-btc-144716198.html',\n",
       "  'https://finance.yahoo.com/news/bought-1-6b-bitcoin-wednesday-155000568.html',\n",
       "  'https://finance.yahoo.com/news/the-true-difference-between-bitcoin-and-ethereum-according-to-grayscales-ceo-195502446.html',\n",
       "  'https://finance.yahoo.com/news/vitalik-buterin-calls-mandatory-bitcoin-184654330.html',\n",
       "  'https://finance.yahoo.com/news/bitcoin-price-rally-fueled-whales-201820117.html',\n",
       "  'https://finance.yahoo.com/news/bitcoins-october-price-rise-suggests-near-term-crypto-bull-run-amid-regulation-191521695.html',\n",
       "  'https://finance.yahoo.com/news/big-short-investor-michael-burry-100448184.html']}"
      ]
     },
     "execution_count": 62,
     "metadata": {},
     "output_type": "execute_result"
    }
   ],
   "source": [
    "cleaned_urls"
   ]
  },
  {
   "cell_type": "code",
   "execution_count": 66,
   "id": "f98e1377",
   "metadata": {},
   "outputs": [],
   "source": [
    "def create_output_array(summaries, scores, urls):\n",
    "    output = []\n",
    "    for ticker in monitored_tickers:\n",
    "        for counter in range(len(summaries[ticker])):\n",
    "            output_this = [\n",
    "                ticker,\n",
    "                summaries[ticker][counter],\n",
    "                scores[ticker][counter]['label'],\n",
    "                scores[ticker][counter]['score'],\n",
    "                urls[ticker][counter]\n",
    "            ]\n",
    "            output.append(output_this)\n",
    "    return output"
   ]
  },
  {
   "cell_type": "code",
   "execution_count": 67,
   "id": "309ba6b1",
   "metadata": {
    "collapsed": true
   },
   "outputs": [
    {
     "data": {
      "text/plain": [
       "[['GME',\n",
       "  'Complaint alleges that defendants made false and misleading statements and/or lacked a reasonable basis.',\n",
       "  'NEGATIVE',\n",
       "  0.9994003176689148,\n",
       "  'https://finance.yahoo.com/news/gainey-mckenna-egleston-announces-class-144000626.html'],\n",
       " ['GME',\n",
       "  'Energy and power solutions provider has been on a wild ride. Social media communities think it could go to the moon',\n",
       "  'POSITIVE',\n",
       "  0.9961391091346741,\n",
       "  'https://investorplace.com/2021/10/what-cei-stock-investors-are-saying-after-camber-energys-red-hot-week/'],\n",
       " ['GME',\n",
       "  'Social trading apps are competing for a slice of the pie.',\n",
       "  'NEGATIVE',\n",
       "  0.9865431785583496,\n",
       "  'https://finance.yahoo.com/news/the-rise-of-social-trading-how-the-internet-is-changing-investing-153643100.html'],\n",
       " ['GME',\n",
       "  'Michael Burry says he received a subpoena from SEC. Rally in video-game retailer’s shares sparked meme-stock frenzy',\n",
       "  'NEGATIVE',\n",
       "  0.9614684581756592,\n",
       "  'https://finance.yahoo.com/news/michael-burry-says-received-subpoena-195853985.html'],\n",
       " ['GME',\n",
       "  'Retail investors say Citadel Securities pressured them. Miami says claims in lawsuit are ‘unsubstantiated’',\n",
       "  'NEGATIVE',\n",
       "  0.9942743182182312,\n",
       "  'https://finance.yahoo.com/news/ken-griffin-robinhood-strike-back-180254628.html'],\n",
       " ['GME',\n",
       "  'Shares of the self-described tech company are down 12% so far in September. One could be punishing meme trader crowd for lack of clarity',\n",
       "  'NEGATIVE',\n",
       "  0.9997784495353699,\n",
       "  'https://finance.yahoo.com/news/game-stop-stock-is-enduring-an-awful-september-180120497.html'],\n",
       " ['GME',\n",
       "  \"‘Retail factor is here to stay,' says Siebert Williams Shank. Off-exchange trading made up 47.2% of equity volume in January 2021\",\n",
       "  'POSITIVE',\n",
       "  0.9101598262786865,\n",
       "  'https://finance.yahoo.com/news/significant-role-of-retail-investing-here-to-stay-suzanne-shank-164155648.html'],\n",
       " ['GME',\n",
       "  '‘I’m pro competition,’ SEC chair says. Payments for order flow may make markets less efficient',\n",
       "  'NEGATIVE',\n",
       "  0.9988982677459717,\n",
       "  'https://finance.yahoo.com/news/gensler-zeroes-in-on-citadel-securities-as-sec-considers-payment-for-order-flow-ban-191715790.html'],\n",
       " ['GME',\n",
       "  'Plans to hire nearly 500 employees at new customer service center in Pembroke Pines, FL. Company has been undertaking radical digital transformation efforts',\n",
       "  'POSITIVE',\n",
       "  0.9902737140655518,\n",
       "  'https://finance.yahoo.com/news/gamestop-gme-hire-500-staff-135001043.html'],\n",
       " ['GME',\n",
       "  'Financial-services firm fined $4 million for not properly supervising ‘Roaring Kitty’. Broker-dealer should have been more clear on social media, analyst says',\n",
       "  'NEGATIVE',\n",
       "  0.9995399713516235,\n",
       "  'https://finance.yahoo.com/news/the-game-stop-phenomenon-triggers-potential-restrictions-in-corporate-america-213447139.html'],\n",
       " ['TSLA',\n",
       "  'Tesla just obtained a patent for laser beam wiper technology.',\n",
       "  'NEGATIVE',\n",
       "  0.9954897165298462,\n",
       "  'https://finance.yahoo.com/news/institutions-own-fewer-tesla-inc-121320878.html'],\n",
       " ['TSLA',\n",
       "  'Activist investment firm Engine No. 1 recommends GM as EV alternative.',\n",
       "  'POSITIVE',\n",
       "  0.801917552947998,\n",
       "  'https://finance.yahoo.com/news/tesla-is-not-enough-engine-no-1-bets-on-gm-white-paper-details-electric-vehicle-landscape-124811083.html'],\n",
       " ['TSLA',\n",
       "  'Activists seek to oust Musk’s brother from the board. Electric car giant is also facing scrutiny over its employment practices',\n",
       "  'NEGATIVE',\n",
       "  0.9975821375846863,\n",
       "  'https://finance.yahoo.com/news/tesla-annual-meeting-what-shareholders-will-vote-on-164326645.html'],\n",
       " ['TSLA',\n",
       "  'Shares of Ford and GM have gained about 15.5% and 15.5%, respectively.',\n",
       "  'NEGATIVE',\n",
       "  0.9670628309249878,\n",
       "  'https://finance.yahoo.com/news/why-shares-of-these-two-old-automakers-are-on-fire-181257566.html'],\n",
       " ['TSLA',\n",
       "  'Tesla faces increased competition from traditional automakers. Apple car launch is biggest catalyst over next couple of years',\n",
       "  'POSITIVE',\n",
       "  0.9962459206581116,\n",
       "  'https://finance.yahoo.com/news/tesla-stock-could-be-walloped-by-the-apple-car-analyst-161749976.html'],\n",
       " ['TSLA',\n",
       "  'Musk says number of drivers with a perfect safety score is on the rise. Tesla to roll out latest self-driving software to eligible drivers',\n",
       "  'POSITIVE',\n",
       "  0.9839545488357544,\n",
       "  'https://finance.yahoo.com/news/tesla-readies-monday-night-launch-222519174.html'],\n",
       " ['TSLA',\n",
       "  'Jurors awarded $137 million in racial discrimination case. Tesla says it will appeal, calling the decision ‘unfair.’',\n",
       "  'NEGATIVE',\n",
       "  0.9911378026008606,\n",
       "  'https://finance.yahoo.com/news/tesla-verdict-owen-diaz-194928289.html'],\n",
       " ['TSLA',\n",
       "  'Tesla, SPOT, SHOP, ABNB among fund’s top holdings. Tesla returned 12.46% since the beginning of the year',\n",
       "  'POSITIVE',\n",
       "  0.99591463804245,\n",
       "  'https://finance.yahoo.com/news/tesla-tsla-still-great-investment-163812046.html'],\n",
       " ['TSLA',\n",
       "  'Record-breaking vehicle production and distribution numbers are a good time to re-evaluate fundamentals.',\n",
       "  'POSITIVE',\n",
       "  0.9995115399360657,\n",
       "  'https://finance.yahoo.com/news/hard-believe-teslas-nasdaq-tsla-225456835.html'],\n",
       " ['TSLA',\n",
       "  'We are aware of the issue and are working to resolve it.',\n",
       "  'POSITIVE',\n",
       "  0.9979087710380554,\n",
       "  'https://finance.yahoo.com/video/apple-potential-2024-car-launch-143545777.html'],\n",
       " ['BTC',\n",
       "  'Signals this week from U.S. regulators boosted sentiment.',\n",
       "  'POSITIVE',\n",
       "  0.9887939691543579,\n",
       "  'https://finance.yahoo.com/news/bitcoin-retakes-47000-in-broad-crypto-rally-as-anxiety-over-regulation-eases-170059924.html'],\n",
       " ['BTC',\n",
       "  'Analysts expect trading volumes to remain elevated',\n",
       "  'POSITIVE',\n",
       "  0.8669217228889465,\n",
       "  'https://finance.yahoo.com/news/market-wrap-analysts-bullish-bitcoin-203802204.html'],\n",
       " ['BTC',\n",
       "  'The preferred view remains BTC is in a new bull run to new all-time highs. Bitcoin daily charts with detailed EWP count and technical indicators',\n",
       "  'NEGATIVE',\n",
       "  0.7618804574012756,\n",
       "  'https://finance.yahoo.com/news/bitcoin-rally-90k-begun-060947691.html'],\n",
       " ['BTC',\n",
       "  'Largest cryptocurrency is trading at $44,000 after plunging to as low as $42,500.',\n",
       "  'NEGATIVE',\n",
       "  0.9983111023902893,\n",
       "  'https://finance.yahoo.com/news/latest-bitcoin-price-analysis-btc-144716198.html'],\n",
       " ['BTC',\n",
       "  '$1.6 billion purchase was made on a central exchange. Some see it as a signal of bullishness, others say it’s just a case of ‘buying on the cheap’',\n",
       "  'NEGATIVE',\n",
       "  0.9990121722221375,\n",
       "  'https://finance.yahoo.com/news/bought-1-6b-bitcoin-wednesday-155000568.html'],\n",
       " ['BTC',\n",
       "  'Ethereum is meant to be more of a gas to power applications, Grayscale CEO says.',\n",
       "  'NEGATIVE',\n",
       "  0.9987099766731262,\n",
       "  'https://finance.yahoo.com/news/the-true-difference-between-bitcoin-and-ethereum-according-to-grayscales-ceo-195502446.html'],\n",
       " ['BTC',\n",
       "  'Vitalik Buterin says making it mandatory is contrary to ideals of freedom. El Salvador has been slow to adopt the digital currency',\n",
       "  'NEGATIVE',\n",
       "  0.9957336783409119,\n",
       "  'https://finance.yahoo.com/news/vitalik-buterin-calls-mandatory-bitcoin-184654330.html'],\n",
       " ['BTC',\n",
       "  'Data show large bitcoin purchases on centralized exchanges. But independent blockchain data analyst says buying mostly came from Coinbase',\n",
       "  'NEGATIVE',\n",
       "  0.9950243234634399,\n",
       "  'https://finance.yahoo.com/news/bitcoin-price-rally-fueled-whales-201820117.html'],\n",
       " ['BTC',\n",
       "  'Largest cryptocurrency is up more than 15% in the past week.',\n",
       "  'NEGATIVE',\n",
       "  0.7754116654396057,\n",
       "  'https://finance.yahoo.com/news/bitcoins-october-price-rise-suggests-near-term-crypto-bull-run-amid-regulation-191521695.html'],\n",
       " ['BTC',\n",
       "  'Hedge fund manager has been ringing the alarm on crypto. Shiba inu has more than tripled in the past week',\n",
       "  'NEGATIVE',\n",
       "  0.9789251089096069,\n",
       "  'https://finance.yahoo.com/news/big-short-investor-michael-burry-100448184.html']]"
      ]
     },
     "execution_count": 67,
     "metadata": {},
     "output_type": "execute_result"
    }
   ],
   "source": [
    "final_output = create_output_array(summaries, scores, cleaned_urls)\n",
    "final_output"
   ]
  },
  {
   "cell_type": "code",
   "execution_count": 68,
   "id": "4dbb9b59",
   "metadata": {},
   "outputs": [],
   "source": [
    "final_output.insert(0, ['Ticker', 'Summary', 'Label', 'Confidence', 'URL'])"
   ]
  },
  {
   "cell_type": "code",
   "execution_count": 69,
   "id": "44999df1",
   "metadata": {
    "collapsed": true
   },
   "outputs": [
    {
     "data": {
      "text/plain": [
       "[['Ticker', 'Summary', 'Label', 'Confidence', 'URL'],\n",
       " ['GME',\n",
       "  'Complaint alleges that defendants made false and misleading statements and/or lacked a reasonable basis.',\n",
       "  'NEGATIVE',\n",
       "  0.9994003176689148,\n",
       "  'https://finance.yahoo.com/news/gainey-mckenna-egleston-announces-class-144000626.html'],\n",
       " ['GME',\n",
       "  'Energy and power solutions provider has been on a wild ride. Social media communities think it could go to the moon',\n",
       "  'POSITIVE',\n",
       "  0.9961391091346741,\n",
       "  'https://investorplace.com/2021/10/what-cei-stock-investors-are-saying-after-camber-energys-red-hot-week/'],\n",
       " ['GME',\n",
       "  'Social trading apps are competing for a slice of the pie.',\n",
       "  'NEGATIVE',\n",
       "  0.9865431785583496,\n",
       "  'https://finance.yahoo.com/news/the-rise-of-social-trading-how-the-internet-is-changing-investing-153643100.html'],\n",
       " ['GME',\n",
       "  'Michael Burry says he received a subpoena from SEC. Rally in video-game retailer’s shares sparked meme-stock frenzy',\n",
       "  'NEGATIVE',\n",
       "  0.9614684581756592,\n",
       "  'https://finance.yahoo.com/news/michael-burry-says-received-subpoena-195853985.html'],\n",
       " ['GME',\n",
       "  'Retail investors say Citadel Securities pressured them. Miami says claims in lawsuit are ‘unsubstantiated’',\n",
       "  'NEGATIVE',\n",
       "  0.9942743182182312,\n",
       "  'https://finance.yahoo.com/news/ken-griffin-robinhood-strike-back-180254628.html'],\n",
       " ['GME',\n",
       "  'Shares of the self-described tech company are down 12% so far in September. One could be punishing meme trader crowd for lack of clarity',\n",
       "  'NEGATIVE',\n",
       "  0.9997784495353699,\n",
       "  'https://finance.yahoo.com/news/game-stop-stock-is-enduring-an-awful-september-180120497.html'],\n",
       " ['GME',\n",
       "  \"‘Retail factor is here to stay,' says Siebert Williams Shank. Off-exchange trading made up 47.2% of equity volume in January 2021\",\n",
       "  'POSITIVE',\n",
       "  0.9101598262786865,\n",
       "  'https://finance.yahoo.com/news/significant-role-of-retail-investing-here-to-stay-suzanne-shank-164155648.html'],\n",
       " ['GME',\n",
       "  '‘I’m pro competition,’ SEC chair says. Payments for order flow may make markets less efficient',\n",
       "  'NEGATIVE',\n",
       "  0.9988982677459717,\n",
       "  'https://finance.yahoo.com/news/gensler-zeroes-in-on-citadel-securities-as-sec-considers-payment-for-order-flow-ban-191715790.html'],\n",
       " ['GME',\n",
       "  'Plans to hire nearly 500 employees at new customer service center in Pembroke Pines, FL. Company has been undertaking radical digital transformation efforts',\n",
       "  'POSITIVE',\n",
       "  0.9902737140655518,\n",
       "  'https://finance.yahoo.com/news/gamestop-gme-hire-500-staff-135001043.html'],\n",
       " ['GME',\n",
       "  'Financial-services firm fined $4 million for not properly supervising ‘Roaring Kitty’. Broker-dealer should have been more clear on social media, analyst says',\n",
       "  'NEGATIVE',\n",
       "  0.9995399713516235,\n",
       "  'https://finance.yahoo.com/news/the-game-stop-phenomenon-triggers-potential-restrictions-in-corporate-america-213447139.html'],\n",
       " ['TSLA',\n",
       "  'Tesla just obtained a patent for laser beam wiper technology.',\n",
       "  'NEGATIVE',\n",
       "  0.9954897165298462,\n",
       "  'https://finance.yahoo.com/news/institutions-own-fewer-tesla-inc-121320878.html'],\n",
       " ['TSLA',\n",
       "  'Activist investment firm Engine No. 1 recommends GM as EV alternative.',\n",
       "  'POSITIVE',\n",
       "  0.801917552947998,\n",
       "  'https://finance.yahoo.com/news/tesla-is-not-enough-engine-no-1-bets-on-gm-white-paper-details-electric-vehicle-landscape-124811083.html'],\n",
       " ['TSLA',\n",
       "  'Activists seek to oust Musk’s brother from the board. Electric car giant is also facing scrutiny over its employment practices',\n",
       "  'NEGATIVE',\n",
       "  0.9975821375846863,\n",
       "  'https://finance.yahoo.com/news/tesla-annual-meeting-what-shareholders-will-vote-on-164326645.html'],\n",
       " ['TSLA',\n",
       "  'Shares of Ford and GM have gained about 15.5% and 15.5%, respectively.',\n",
       "  'NEGATIVE',\n",
       "  0.9670628309249878,\n",
       "  'https://finance.yahoo.com/news/why-shares-of-these-two-old-automakers-are-on-fire-181257566.html'],\n",
       " ['TSLA',\n",
       "  'Tesla faces increased competition from traditional automakers. Apple car launch is biggest catalyst over next couple of years',\n",
       "  'POSITIVE',\n",
       "  0.9962459206581116,\n",
       "  'https://finance.yahoo.com/news/tesla-stock-could-be-walloped-by-the-apple-car-analyst-161749976.html'],\n",
       " ['TSLA',\n",
       "  'Musk says number of drivers with a perfect safety score is on the rise. Tesla to roll out latest self-driving software to eligible drivers',\n",
       "  'POSITIVE',\n",
       "  0.9839545488357544,\n",
       "  'https://finance.yahoo.com/news/tesla-readies-monday-night-launch-222519174.html'],\n",
       " ['TSLA',\n",
       "  'Jurors awarded $137 million in racial discrimination case. Tesla says it will appeal, calling the decision ‘unfair.’',\n",
       "  'NEGATIVE',\n",
       "  0.9911378026008606,\n",
       "  'https://finance.yahoo.com/news/tesla-verdict-owen-diaz-194928289.html'],\n",
       " ['TSLA',\n",
       "  'Tesla, SPOT, SHOP, ABNB among fund’s top holdings. Tesla returned 12.46% since the beginning of the year',\n",
       "  'POSITIVE',\n",
       "  0.99591463804245,\n",
       "  'https://finance.yahoo.com/news/tesla-tsla-still-great-investment-163812046.html'],\n",
       " ['TSLA',\n",
       "  'Record-breaking vehicle production and distribution numbers are a good time to re-evaluate fundamentals.',\n",
       "  'POSITIVE',\n",
       "  0.9995115399360657,\n",
       "  'https://finance.yahoo.com/news/hard-believe-teslas-nasdaq-tsla-225456835.html'],\n",
       " ['TSLA',\n",
       "  'We are aware of the issue and are working to resolve it.',\n",
       "  'POSITIVE',\n",
       "  0.9979087710380554,\n",
       "  'https://finance.yahoo.com/video/apple-potential-2024-car-launch-143545777.html'],\n",
       " ['BTC',\n",
       "  'Signals this week from U.S. regulators boosted sentiment.',\n",
       "  'POSITIVE',\n",
       "  0.9887939691543579,\n",
       "  'https://finance.yahoo.com/news/bitcoin-retakes-47000-in-broad-crypto-rally-as-anxiety-over-regulation-eases-170059924.html'],\n",
       " ['BTC',\n",
       "  'Analysts expect trading volumes to remain elevated',\n",
       "  'POSITIVE',\n",
       "  0.8669217228889465,\n",
       "  'https://finance.yahoo.com/news/market-wrap-analysts-bullish-bitcoin-203802204.html'],\n",
       " ['BTC',\n",
       "  'The preferred view remains BTC is in a new bull run to new all-time highs. Bitcoin daily charts with detailed EWP count and technical indicators',\n",
       "  'NEGATIVE',\n",
       "  0.7618804574012756,\n",
       "  'https://finance.yahoo.com/news/bitcoin-rally-90k-begun-060947691.html'],\n",
       " ['BTC',\n",
       "  'Largest cryptocurrency is trading at $44,000 after plunging to as low as $42,500.',\n",
       "  'NEGATIVE',\n",
       "  0.9983111023902893,\n",
       "  'https://finance.yahoo.com/news/latest-bitcoin-price-analysis-btc-144716198.html'],\n",
       " ['BTC',\n",
       "  '$1.6 billion purchase was made on a central exchange. Some see it as a signal of bullishness, others say it’s just a case of ‘buying on the cheap’',\n",
       "  'NEGATIVE',\n",
       "  0.9990121722221375,\n",
       "  'https://finance.yahoo.com/news/bought-1-6b-bitcoin-wednesday-155000568.html'],\n",
       " ['BTC',\n",
       "  'Ethereum is meant to be more of a gas to power applications, Grayscale CEO says.',\n",
       "  'NEGATIVE',\n",
       "  0.9987099766731262,\n",
       "  'https://finance.yahoo.com/news/the-true-difference-between-bitcoin-and-ethereum-according-to-grayscales-ceo-195502446.html'],\n",
       " ['BTC',\n",
       "  'Vitalik Buterin says making it mandatory is contrary to ideals of freedom. El Salvador has been slow to adopt the digital currency',\n",
       "  'NEGATIVE',\n",
       "  0.9957336783409119,\n",
       "  'https://finance.yahoo.com/news/vitalik-buterin-calls-mandatory-bitcoin-184654330.html'],\n",
       " ['BTC',\n",
       "  'Data show large bitcoin purchases on centralized exchanges. But independent blockchain data analyst says buying mostly came from Coinbase',\n",
       "  'NEGATIVE',\n",
       "  0.9950243234634399,\n",
       "  'https://finance.yahoo.com/news/bitcoin-price-rally-fueled-whales-201820117.html'],\n",
       " ['BTC',\n",
       "  'Largest cryptocurrency is up more than 15% in the past week.',\n",
       "  'NEGATIVE',\n",
       "  0.7754116654396057,\n",
       "  'https://finance.yahoo.com/news/bitcoins-october-price-rise-suggests-near-term-crypto-bull-run-amid-regulation-191521695.html'],\n",
       " ['BTC',\n",
       "  'Hedge fund manager has been ringing the alarm on crypto. Shiba inu has more than tripled in the past week',\n",
       "  'NEGATIVE',\n",
       "  0.9789251089096069,\n",
       "  'https://finance.yahoo.com/news/big-short-investor-michael-burry-100448184.html']]"
      ]
     },
     "execution_count": 69,
     "metadata": {},
     "output_type": "execute_result"
    }
   ],
   "source": [
    "final_output"
   ]
  },
  {
   "cell_type": "code",
   "execution_count": 71,
   "id": "f0c16b53",
   "metadata": {},
   "outputs": [],
   "source": [
    "import csv\n",
    "with open('assetsummaries.csv', mode='w', newline='') as f:\n",
    "    csv_writer = csv.writer(f, delimiter=',', quotechar='\"', quoting=csv.QUOTE_MINIMAL)\n",
    "    csv_writer.writerows(final_output)"
   ]
  },
  {
   "cell_type": "code",
   "execution_count": null,
   "id": "a3d5bd88",
   "metadata": {},
   "outputs": [],
   "source": []
  }
 ],
 "metadata": {
  "kernelspec": {
   "display_name": "Python 3",
   "language": "python",
   "name": "python3"
  },
  "language_info": {
   "codemirror_mode": {
    "name": "ipython",
    "version": 3
   },
   "file_extension": ".py",
   "mimetype": "text/x-python",
   "name": "python",
   "nbconvert_exporter": "python",
   "pygments_lexer": "ipython3",
   "version": "3.8.8"
  }
 },
 "nbformat": 4,
 "nbformat_minor": 5
}
